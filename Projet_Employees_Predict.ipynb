{
 "cells": [
  {
   "cell_type": "markdown",
   "id": "93a4c3d1",
   "metadata": {},
   "source": [
    "# NOTEBOOK PREDICT"
   ]
  },
  {
   "cell_type": "code",
   "execution_count": 2,
   "id": "87f461ce",
   "metadata": {},
   "outputs": [
    {
     "name": "stdout",
     "output_type": "stream",
     "text": [
      "Requirement already satisfied: scikit-plot in c:\\users\\simplon\\anaconda3\\lib\\site-packages (0.3.7)\n",
      "Requirement already satisfied: joblib>=0.10 in c:\\users\\simplon\\anaconda3\\lib\\site-packages (from scikit-plot) (1.0.1)\n",
      "Requirement already satisfied: scikit-learn>=0.18 in c:\\users\\simplon\\anaconda3\\lib\\site-packages (from scikit-plot) (0.24.1)\n",
      "Requirement already satisfied: matplotlib>=1.4.0 in c:\\users\\simplon\\anaconda3\\lib\\site-packages (from scikit-plot) (3.3.4)\n",
      "Requirement already satisfied: scipy>=0.9 in c:\\users\\simplon\\anaconda3\\lib\\site-packages (from scikit-plot) (1.6.2)\n",
      "Requirement already satisfied: pillow>=6.2.0 in c:\\users\\simplon\\anaconda3\\lib\\site-packages (from matplotlib>=1.4.0->scikit-plot) (8.2.0)\n",
      "Requirement already satisfied: numpy>=1.15 in c:\\users\\simplon\\anaconda3\\lib\\site-packages (from matplotlib>=1.4.0->scikit-plot) (1.19.5)\n",
      "Requirement already satisfied: cycler>=0.10 in c:\\users\\simplon\\anaconda3\\lib\\site-packages (from matplotlib>=1.4.0->scikit-plot) (0.10.0)\n",
      "Requirement already satisfied: pyparsing!=2.0.4,!=2.1.2,!=2.1.6,>=2.0.3 in c:\\users\\simplon\\anaconda3\\lib\\site-packages (from matplotlib>=1.4.0->scikit-plot) (2.4.7)\n",
      "Requirement already satisfied: python-dateutil>=2.1 in c:\\users\\simplon\\anaconda3\\lib\\site-packages (from matplotlib>=1.4.0->scikit-plot) (2.8.1)\n",
      "Requirement already satisfied: kiwisolver>=1.0.1 in c:\\users\\simplon\\anaconda3\\lib\\site-packages (from matplotlib>=1.4.0->scikit-plot) (1.3.1)\n",
      "Requirement already satisfied: six in c:\\users\\simplon\\anaconda3\\lib\\site-packages (from cycler>=0.10->matplotlib>=1.4.0->scikit-plot) (1.15.0)\n",
      "Requirement already satisfied: threadpoolctl>=2.0.0 in c:\\users\\simplon\\anaconda3\\lib\\site-packages (from scikit-learn>=0.18->scikit-plot) (2.1.0)\n",
      "Note: you may need to restart the kernel to use updated packages.\n"
     ]
    }
   ],
   "source": [
    "pip install scikit-plot"
   ]
  },
  {
   "cell_type": "code",
   "execution_count": 5,
   "id": "fff75c76",
   "metadata": {},
   "outputs": [],
   "source": [
    "import pandas as pd\n",
    "import seaborn as sns\n",
    "\n",
    "import matplotlib.pyplot as plt\n",
    "\n",
    "import numpy as np\n",
    "\n",
    "from imblearn.over_sampling import SMOTE\n",
    "from imblearn.pipeline import Pipeline as imbpipeline\n",
    "from sklearn.preprocessing import LabelEncoder , OneHotEncoder\n",
    "\n",
    "from sklearn.naive_bayes import GaussianNB\n",
    "from sklearn.tree import DecisionTreeClassifier\n",
    "from sklearn.model_selection import cross_validate , learning_curve\n",
    "from sklearn.metrics import confusion_matrix\n",
    "from sklearn.model_selection import train_test_split\n",
    "from sklearn.metrics import plot_confusion_matrix , classification_report\n",
    "from sklearn.linear_model import LogisticRegression\n",
    "from sklearn.pipeline import Pipeline , make_pipeline\n",
    "from sklearn.model_selection import GridSearchCV , cross_val_score\n",
    "from sklearn.preprocessing import MinMaxScaler , StandardScaler\n",
    "from sklearn.neighbors import KNeighborsClassifier\n",
    "from sklearn.svm import SVC\n",
    "from sklearn.ensemble import BaggingClassifier , AdaBoostClassifier , StackingClassifier , GradientBoostingClassifier\n",
    "from sklearn.dummy import DummyClassifier\n",
    "from yellowbrick.classifier import ConfusionMatrix\n",
    "from sklearn.metrics import plot_confusion_matrix , classification_report\n",
    "from scikitplot.estimators import plot_learning_curve\n",
    "import scikitplot as skplt\n",
    "from yellowbrick.model_selection import LearningCurve\n",
    "from sklearn.neighbors import KNeighborsClassifier\n",
    "from sklearn.tree import DecisionTreeClassifier\n",
    "from sklearn.ensemble import GradientBoostingClassifier\n",
    "from sklearn.model_selection import cross_validate\n",
    "from sklearn.model_selection import cross_val_score\n",
    "from sklearn.model_selection import cross_val_predict\n",
    "from sklearn.ensemble import BaggingClassifier , AdaBoostClassifier , StackingClassifier , GradientBoostingClassifier"
   ]
  },
  {
   "cell_type": "code",
   "execution_count": 6,
   "id": "fdfa22ef",
   "metadata": {},
   "outputs": [
    {
     "data": {
      "text/html": [
       "<div>\n",
       "<style scoped>\n",
       "    .dataframe tbody tr th:only-of-type {\n",
       "        vertical-align: middle;\n",
       "    }\n",
       "\n",
       "    .dataframe tbody tr th {\n",
       "        vertical-align: top;\n",
       "    }\n",
       "\n",
       "    .dataframe thead th {\n",
       "        text-align: right;\n",
       "    }\n",
       "</style>\n",
       "<table border=\"1\" class=\"dataframe\">\n",
       "  <thead>\n",
       "    <tr style=\"text-align: right;\">\n",
       "      <th></th>\n",
       "      <th>Unnamed: 0</th>\n",
       "      <th>Education</th>\n",
       "      <th>JoiningYear</th>\n",
       "      <th>City</th>\n",
       "      <th>PaymentTier</th>\n",
       "      <th>Age</th>\n",
       "      <th>Gender</th>\n",
       "      <th>EverBenched</th>\n",
       "      <th>ExperienceInCurrentDomain</th>\n",
       "      <th>LeaveOrNot</th>\n",
       "    </tr>\n",
       "  </thead>\n",
       "  <tbody>\n",
       "    <tr>\n",
       "      <th>0</th>\n",
       "      <td>0</td>\n",
       "      <td>0</td>\n",
       "      <td>2017</td>\n",
       "      <td>0</td>\n",
       "      <td>3</td>\n",
       "      <td>34</td>\n",
       "      <td>1</td>\n",
       "      <td>0</td>\n",
       "      <td>0</td>\n",
       "      <td>0</td>\n",
       "    </tr>\n",
       "    <tr>\n",
       "      <th>1</th>\n",
       "      <td>1</td>\n",
       "      <td>0</td>\n",
       "      <td>2013</td>\n",
       "      <td>2</td>\n",
       "      <td>1</td>\n",
       "      <td>28</td>\n",
       "      <td>0</td>\n",
       "      <td>0</td>\n",
       "      <td>3</td>\n",
       "      <td>1</td>\n",
       "    </tr>\n",
       "    <tr>\n",
       "      <th>2</th>\n",
       "      <td>2</td>\n",
       "      <td>0</td>\n",
       "      <td>2014</td>\n",
       "      <td>1</td>\n",
       "      <td>3</td>\n",
       "      <td>38</td>\n",
       "      <td>0</td>\n",
       "      <td>0</td>\n",
       "      <td>2</td>\n",
       "      <td>0</td>\n",
       "    </tr>\n",
       "    <tr>\n",
       "      <th>3</th>\n",
       "      <td>3</td>\n",
       "      <td>1</td>\n",
       "      <td>2016</td>\n",
       "      <td>0</td>\n",
       "      <td>3</td>\n",
       "      <td>27</td>\n",
       "      <td>1</td>\n",
       "      <td>0</td>\n",
       "      <td>5</td>\n",
       "      <td>1</td>\n",
       "    </tr>\n",
       "    <tr>\n",
       "      <th>4</th>\n",
       "      <td>4</td>\n",
       "      <td>1</td>\n",
       "      <td>2017</td>\n",
       "      <td>2</td>\n",
       "      <td>3</td>\n",
       "      <td>24</td>\n",
       "      <td>1</td>\n",
       "      <td>1</td>\n",
       "      <td>2</td>\n",
       "      <td>1</td>\n",
       "    </tr>\n",
       "    <tr>\n",
       "      <th>...</th>\n",
       "      <td>...</td>\n",
       "      <td>...</td>\n",
       "      <td>...</td>\n",
       "      <td>...</td>\n",
       "      <td>...</td>\n",
       "      <td>...</td>\n",
       "      <td>...</td>\n",
       "      <td>...</td>\n",
       "      <td>...</td>\n",
       "      <td>...</td>\n",
       "    </tr>\n",
       "    <tr>\n",
       "      <th>4648</th>\n",
       "      <td>4648</td>\n",
       "      <td>0</td>\n",
       "      <td>2013</td>\n",
       "      <td>0</td>\n",
       "      <td>3</td>\n",
       "      <td>26</td>\n",
       "      <td>0</td>\n",
       "      <td>0</td>\n",
       "      <td>4</td>\n",
       "      <td>0</td>\n",
       "    </tr>\n",
       "    <tr>\n",
       "      <th>4649</th>\n",
       "      <td>4649</td>\n",
       "      <td>1</td>\n",
       "      <td>2013</td>\n",
       "      <td>2</td>\n",
       "      <td>2</td>\n",
       "      <td>37</td>\n",
       "      <td>1</td>\n",
       "      <td>0</td>\n",
       "      <td>2</td>\n",
       "      <td>1</td>\n",
       "    </tr>\n",
       "    <tr>\n",
       "      <th>4650</th>\n",
       "      <td>4650</td>\n",
       "      <td>1</td>\n",
       "      <td>2018</td>\n",
       "      <td>1</td>\n",
       "      <td>3</td>\n",
       "      <td>27</td>\n",
       "      <td>1</td>\n",
       "      <td>0</td>\n",
       "      <td>5</td>\n",
       "      <td>1</td>\n",
       "    </tr>\n",
       "    <tr>\n",
       "      <th>4651</th>\n",
       "      <td>4651</td>\n",
       "      <td>0</td>\n",
       "      <td>2012</td>\n",
       "      <td>0</td>\n",
       "      <td>3</td>\n",
       "      <td>30</td>\n",
       "      <td>1</td>\n",
       "      <td>1</td>\n",
       "      <td>2</td>\n",
       "      <td>0</td>\n",
       "    </tr>\n",
       "    <tr>\n",
       "      <th>4652</th>\n",
       "      <td>4652</td>\n",
       "      <td>0</td>\n",
       "      <td>2015</td>\n",
       "      <td>0</td>\n",
       "      <td>3</td>\n",
       "      <td>33</td>\n",
       "      <td>1</td>\n",
       "      <td>1</td>\n",
       "      <td>4</td>\n",
       "      <td>0</td>\n",
       "    </tr>\n",
       "  </tbody>\n",
       "</table>\n",
       "<p>4653 rows × 10 columns</p>\n",
       "</div>"
      ],
      "text/plain": [
       "      Unnamed: 0  Education  JoiningYear  City  PaymentTier  Age  Gender  \\\n",
       "0              0          0         2017     0            3   34       1   \n",
       "1              1          0         2013     2            1   28       0   \n",
       "2              2          0         2014     1            3   38       0   \n",
       "3              3          1         2016     0            3   27       1   \n",
       "4              4          1         2017     2            3   24       1   \n",
       "...          ...        ...          ...   ...          ...  ...     ...   \n",
       "4648        4648          0         2013     0            3   26       0   \n",
       "4649        4649          1         2013     2            2   37       1   \n",
       "4650        4650          1         2018     1            3   27       1   \n",
       "4651        4651          0         2012     0            3   30       1   \n",
       "4652        4652          0         2015     0            3   33       1   \n",
       "\n",
       "      EverBenched  ExperienceInCurrentDomain  LeaveOrNot  \n",
       "0               0                          0           0  \n",
       "1               0                          3           1  \n",
       "2               0                          2           0  \n",
       "3               0                          5           1  \n",
       "4               1                          2           1  \n",
       "...           ...                        ...         ...  \n",
       "4648            0                          4           0  \n",
       "4649            0                          2           1  \n",
       "4650            0                          5           1  \n",
       "4651            1                          2           0  \n",
       "4652            1                          4           0  \n",
       "\n",
       "[4653 rows x 10 columns]"
      ]
     },
     "execution_count": 6,
     "metadata": {},
     "output_type": "execute_result"
    }
   ],
   "source": [
    "data = pd.read_csv('datadf.csv')\n",
    "data"
   ]
  },
  {
   "cell_type": "markdown",
   "id": "212d6b01",
   "metadata": {},
   "source": [
    "# 3eme Iteration KNeighborsClassifier"
   ]
  },
  {
   "cell_type": "code",
   "execution_count": null,
   "id": "79254d94",
   "metadata": {},
   "outputs": [],
   "source": [
    "KNC = Pipeline(steps=[[\"min_max_scaler\", preprocessing_Min_Max_Scaler],\n",
    "                               [\"standardscaler\" , preprocessing_StandardScaler],\n",
    "                               [\"classifier\", KNeighborsClassifier()]])"
   ]
  },
  {
   "cell_type": "code",
   "execution_count": 23,
   "id": "feb34a6d",
   "metadata": {},
   "outputs": [],
   "source": [
    "KNC.fit(X_train, y_train)"
   ]
  },
  {
   "cell_type": "code",
   "execution_count": 24,
   "id": "c8937c26",
   "metadata": {},
   "outputs": [],
   "source": [
    "print(\"accuracy train : %.3f\"%KNC.score(X_train , y_train))\n",
    "print(\"accuracy test : %.3f\"%KNC.score(X_test , y_test))"
   ]
  },
  {
   "cell_type": "code",
   "execution_count": 22,
   "id": "243f1405",
   "metadata": {},
   "outputs": [],
   "source": [
    "y_pred_KNC = KNC.predict(X_test) "
   ]
  },
  {
   "cell_type": "code",
   "execution_count": 21,
   "id": "c50c9969",
   "metadata": {},
   "outputs": [],
   "source": [
    "print(classification_report(y_test, y_pred_KNC))"
   ]
  },
  {
   "cell_type": "code",
   "execution_count": 20,
   "id": "0db05d3e",
   "metadata": {},
   "outputs": [],
   "source": [
    "# Matrice confusion\n",
    "def plot_confusion_matrix(y, y_pred):\n",
    "     cm = confusion_matrix(y, y_pred)\n",
    "     sns.heatmap(cm, annot=True, fmt=\".0f\")\n",
    "     plt.xlabel('y_pred')\n",
    "     plt.ylabel('y')\n",
    "     plt.show()\n",
    "\n",
    "plot_confusion_matrix(y_test, y_pred_KNC)"
   ]
  },
  {
   "cell_type": "markdown",
   "id": "aeebf4b2",
   "metadata": {},
   "source": [
    "# Learning-Curve"
   ]
  },
  {
   "cell_type": "code",
   "execution_count": 14,
   "id": "b3794a3d",
   "metadata": {},
   "outputs": [],
   "source": [
    "plot_learning_curve(DummyPipeline, X, y)"
   ]
  },
  {
   "cell_type": "markdown",
   "id": "05663a2d",
   "metadata": {},
   "source": [
    "# ROC-AUC"
   ]
  },
  {
   "cell_type": "code",
   "execution_count": null,
   "id": "219bfae5",
   "metadata": {},
   "outputs": [],
   "source": [
    "DummyPipeline.fit(X_train, y_train)\n",
    "y_probas = DummyPipeline.predict_proba(X_test)\n",
    "skplt.metrics.plot_roc(y_test, y_probas)"
   ]
  },
  {
   "cell_type": "code",
   "execution_count": 15,
   "id": "59352833",
   "metadata": {},
   "outputs": [],
   "source": [
    "import pickle"
   ]
  },
  {
   "cell_type": "code",
   "execution_count": 19,
   "id": "7cb90c8c",
   "metadata": {},
   "outputs": [],
   "source": [
    "with open('testing_pickle' , \"rb\") as f:\n",
    "     mp=pickle.load(f)"
   ]
  },
  {
   "cell_type": "code",
   "execution_count": 18,
   "id": "8f9be785",
   "metadata": {},
   "outputs": [],
   "source": [
    "mp.predict(X_test)"
   ]
  },
  {
   "cell_type": "code",
   "execution_count": null,
   "id": "2a713fae",
   "metadata": {},
   "outputs": [],
   "source": []
  }
 ],
 "metadata": {
  "kernelspec": {
   "display_name": "Python 3",
   "language": "python",
   "name": "python3"
  },
  "language_info": {
   "codemirror_mode": {
    "name": "ipython",
    "version": 3
   },
   "file_extension": ".py",
   "mimetype": "text/x-python",
   "name": "python",
   "nbconvert_exporter": "python",
   "pygments_lexer": "ipython3",
   "version": "3.8.8"
  }
 },
 "nbformat": 4,
 "nbformat_minor": 5
}
